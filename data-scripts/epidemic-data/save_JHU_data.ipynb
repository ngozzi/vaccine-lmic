{
 "cells": [
  {
   "cell_type": "code",
   "execution_count": 1,
   "metadata": {},
   "outputs": [],
   "source": [
    "# libraries \n",
    "import pandas as pd\n",
    "import numpy as np\n",
    "import os\n",
    "from datetime import datetime, timedelta\n",
    "\n",
    "# data directory\n",
    "data_dir = \"../../basins/\"\n",
    "\n",
    "# list of countries\n",
    "countries = ['Sri Lanka', 'El Salvador', 'Morocco', 'Bolivia', 'Honduras',\n",
    "             'Philippines', 'Indonesia', 'Pakistan', 'Rwanda', 'Bangladesh',\n",
    "             'Kyrgyzstan', 'Egypt', 'Mozambique', 'Afghanistan', 'Angola',\n",
    "             'Ghana', 'Zambia', \"Côte d'Ivoire\", 'Kenya', 'Uganda']\n",
    "\n",
    "\n",
    "def parse_date(date_str):\n",
    "    \"\"\"\n",
    "    This function parse dates\n",
    "    :param date_str: string date formatted as mm/dd/yy\n",
    "    :return: datetime dates\n",
    "    \"\"\"\n",
    "    s = date_str.split(\"/\")\n",
    "    return datetime(2000 + int(s[2]), int(s[0]), int(s[1]))\n",
    "\n",
    "\n",
    "def get_epi_data(country, df):\n",
    "    \"\"\"\n",
    "    This function returns epidemic data for a given country (cases and deaths)\n",
    "    :param country: country name\n",
    "    :param df: global epi data DataFrame\n",
    "    :return: epi data for given country\n",
    "    \"\"\"\n",
    "    if country == \"Myanmar\":\n",
    "        country_jhu = \"Burma\"\n",
    "    elif country == \"Côte d'Ivoire\":\n",
    "        country_jhu = \"Cote d'Ivoire\"\n",
    "    else:\n",
    "        country_jhu = country\n",
    "\n",
    "    df_country = df.loc[df['Country/Region'] == country_jhu]\n",
    "    dates, cumulative = [parse_date(c) for c in date_cols], df_country[date_cols].values[0]\n",
    "    df_country = pd.DataFrame(data={\"date\": dates, \"cumulative\": cumulative})\n",
    "    df_country[\"daily\"] = df_country.cumulative.diff()\n",
    "    return df_country"
   ]
  },
  {
   "cell_type": "code",
   "execution_count": 2,
   "metadata": {},
   "outputs": [],
   "source": [
    "# import data\n",
    "#url = \"https://raw.githubusercontent.com/CSSEGISandData/COVID-19/master/csse_covid_19_data/csse_covid_19_daily_reports/\"\n",
    "url_deaths = \"https://raw.githubusercontent.com/CSSEGISandData/COVID-19/master/csse_covid_19_data/csse_covid_19_time_series/time_series_covid19_deaths_global.csv\"\n",
    "url_cases = \"https://raw.githubusercontent.com/CSSEGISandData/COVID-19/master/csse_covid_19_data/csse_covid_19_time_series/time_series_covid19_confirmed_global.csv\"\n",
    "deaths = pd.read_csv(url_deaths)\n",
    "cases = pd.read_csv(url_cases)\n",
    "\n",
    "# datetime colums\n",
    "date_cols = [c for c in deaths.columns if c not in ['Province/State', 'Country/Region', 'Lat', 'Long']]"
   ]
  },
  {
   "cell_type": "code",
   "execution_count": 3,
   "metadata": {},
   "outputs": [
    {
     "name": "stdout",
     "output_type": "stream",
     "text": [
      "Kyrgyzstan\n"
     ]
    }
   ],
   "source": [
    "for country in countries:\n",
    "    print(country)\n",
    "    deaths_country = get_epi_data(country, deaths)\n",
    "    deaths_country.to_csv(os.path.join(data_dir, country, \"epidemic-data/deaths.csv\"), index=False)\n",
    "    cases_country = get_epi_data(country, cases)\n",
    "    cases_country.to_csv(os.path.join(data_dir, country, \"epidemic-data/cases.csv\"), index=False)"
   ]
  },
  {
   "cell_type": "code",
   "execution_count": 31,
   "metadata": {},
   "outputs": [],
   "source": [
    "# correct errors\n",
    "\n",
    "### ANOMALIES ###\n",
    "country = 'Bolivia'\n",
    "deaths = pd.read_csv(os.path.join(data_dir, country, \"epidemic-data/deaths.csv\"))\n",
    "deaths.date = pd.to_datetime(deaths.date)\n",
    "date_anom = deaths.loc[deaths.daily > 1000]['date'].values[0]\n",
    "deaths.loc[deaths.date == date_anom, 'daily'] = deaths.loc[deaths.date == pd.to_datetime(date_anom) - timedelta(days=2), 'daily'].values[0] \n",
    "deaths.to_csv(os.path.join(data_dir, country, \"epidemic-data/deaths.csv\"), index=False)\n",
    "\n",
    "country = 'Uganda'\n",
    "deaths = pd.read_csv(os.path.join(data_dir, country, \"epidemic-data/deaths.csv\"))\n",
    "deaths.date = pd.to_datetime(deaths.date)\n",
    "date_anom = deaths.loc[deaths.daily > 800]['date'].values[0]\n",
    "deaths.loc[deaths.date == date_anom, 'daily'] = deaths.loc[deaths.date == pd.to_datetime(date_anom) - timedelta(days=2), 'daily'].values[0] \n",
    "deaths.to_csv(os.path.join(data_dir, country, \"epidemic-data/deaths.csv\"), index=False)\n",
    "\n",
    "\n",
    "### NEGATIVE VALUES ###\n",
    "for country in [\"Mozambique\", \"Philippines\", \"Uganda\", \"Angola\", \"Nigeria\", \"Myanmar\", \"Honduras\", \"Kyrgyzstan\"]:\n",
    "    deaths = pd.read_csv(os.path.join(data_dir, country, \"epidemic-data/deaths.csv\"))\n",
    "    deaths.date = pd.to_datetime(deaths.date)\n",
    "    date_anom = deaths.loc[deaths.daily < 0]['date'].values[0]\n",
    "    deaths.loc[deaths.date == date_anom, 'daily'] = deaths.loc[deaths.date == pd.to_datetime(date_anom) - timedelta(days=1), 'daily'].values[0] \n",
    "    deaths.to_csv(os.path.join(data_dir, country, \"epidemic-data/deaths.csv\"), index=False)"
   ]
  }
 ],
 "metadata": {
  "kernelspec": {
   "display_name": "base",
   "language": "python",
   "name": "python3"
  },
  "language_info": {
   "codemirror_mode": {
    "name": "ipython",
    "version": 3
   },
   "file_extension": ".py",
   "mimetype": "text/x-python",
   "name": "python",
   "nbconvert_exporter": "python",
   "pygments_lexer": "ipython3",
   "version": "3.8.8"
  },
  "vscode": {
   "interpreter": {
    "hash": "40d3a090f54c6569ab1632332b64b2c03c39dcf918b08424e98f38b5ae0af88f"
   }
  }
 },
 "nbformat": 4,
 "nbformat_minor": 4
}
