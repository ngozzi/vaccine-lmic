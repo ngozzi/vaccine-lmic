{
 "cells": [
  {
   "cell_type": "code",
   "execution_count": 1,
   "id": "1cc3f374-3549-4d38-83bd-db87abc131ee",
   "metadata": {},
   "outputs": [],
   "source": [
    "# libraries \n",
    "import pandas as pd\n",
    "import numpy as np\n",
    "import os\n",
    "from datetime import datetime, timedelta\n",
    "import matplotlib.pyplot as plt\n",
    "\n",
    "# data directory\n",
    "data_dir = \"../../basins/\"\n",
    "\n",
    "# list of countries\n",
    "countries = ['Sri Lanka', 'El Salvador', 'Morocco', 'Bolivia', 'Honduras',\n",
    "             'Philippines', 'Indonesia', 'Pakistan', 'Rwanda', 'Bangladesh',\n",
    "             'Kyrgyzstan', 'Egypt', 'Mozambique', 'Afghanistan', 'Angola',\n",
    "             'Ghana', 'Zambia', \"Côte d'Ivoire\", 'Kenya', 'Uganda']\n"
   ]
  },
  {
   "cell_type": "code",
   "execution_count": 2,
   "id": "e0062db5-e43b-4035-930d-7934fb33832b",
   "metadata": {},
   "outputs": [],
   "source": [
    "end_date = datetime(2021, 12, 2)\n",
    "\n",
    "for country in countries:\n",
    "    # import data\n",
    "    df_vax = pd.read_csv(data_dir + \"/\" + country + \"/vaccinations/vaccinations.csv\")\n",
    "    \n",
    "    # new dates and vaccinations\n",
    "    new_days = [datetime(2020, 12, 27) + timedelta(days=i) for i in range(len(df_vax))]\n",
    "    new_1stdose = list(df_vax.one_dose_daily.values)\n",
    "    new_2nddose = list(df_vax.two_dose_daily.values)\n",
    "    \n",
    "    last_date = new_days[-1]\n",
    "    mean_last7_1st_dose = df_vax.tail(7).one_dose_daily.mean()\n",
    "    mean_last7_2nd_dose = df_vax.tail(7).two_dose_daily.mean()\n",
    "    \n",
    "    # if not enough data we keep the avg of last 7 days to fill up to end_date\n",
    "    if last_date < end_date:\n",
    "        for t in np.arange(1, (end_date - last_date).days + 1, 1):\n",
    "            new_days.append(last_date + timedelta(days=int(t)))\n",
    "            new_1stdose.append(mean_last7_1st_dose)\n",
    "            new_2nddose.append(mean_last7_2nd_dose)\n",
    "            \n",
    "    df_vax_earlier = pd.DataFrame(data={\"Day\": new_days, \n",
    "                                        \"one_dose_daily\": new_1stdose,\n",
    "                                        \"two_dose_daily\": new_2nddose})\n",
    "    \n",
    "    df_vax_earlier.to_csv(data_dir + \"/\" + country + \"/vaccinations/vaccinations_eu_start.csv\", index=False)"
   ]
  },
  {
   "cell_type": "code",
   "execution_count": 3,
   "id": "9d34041d-d954-4217-9b1e-7e39a042d3f9",
   "metadata": {},
   "outputs": [],
   "source": [
    "end_date = datetime(2021, 12, 2)\n",
    "\n",
    "for country in countries:\n",
    "    # import data\n",
    "    df_vax = pd.read_csv(data_dir + \"/\" + country + \"/vaccinations/vaccinations.csv\")\n",
    "    \n",
    "    # new dates and vaccinations\n",
    "    new_days = [datetime(2020, 12, 14) + timedelta(days=i) for i in range(len(df_vax))]\n",
    "    new_1stdose = list(df_vax.one_dose_daily.values)\n",
    "    new_2nddose = list(df_vax.two_dose_daily.values)\n",
    "    \n",
    "    last_date = new_days[-1]\n",
    "    mean_last7_1st_dose = df_vax.tail(7).one_dose_daily.mean()\n",
    "    mean_last7_2nd_dose = df_vax.tail(7).two_dose_daily.mean()\n",
    "    \n",
    "    # if not enough data we keep the avg of last 7 days to fill up to end_date\n",
    "    if last_date < end_date:\n",
    "        for t in np.arange(1, (end_date - last_date).days + 1, 1):\n",
    "            new_days.append(last_date + timedelta(days=int(t)))\n",
    "            new_1stdose.append(mean_last7_1st_dose)\n",
    "            new_2nddose.append(mean_last7_2nd_dose)\n",
    "            \n",
    "    df_vax_earlier = pd.DataFrame(data={\"Day\": new_days, \n",
    "                                        \"one_dose_daily\": new_1stdose,\n",
    "                                        \"two_dose_daily\": new_2nddose})\n",
    "    \n",
    "    df_vax_earlier.to_csv(data_dir + \"/\" + country + \"/vaccinations/vaccinations_us_start.csv\", index=False)"
   ]
  },
  {
   "cell_type": "code",
   "execution_count": null,
   "id": "e5874363",
   "metadata": {},
   "outputs": [],
   "source": []
  }
 ],
 "metadata": {
  "kernelspec": {
   "display_name": "base",
   "language": "python",
   "name": "python3"
  },
  "language_info": {
   "codemirror_mode": {
    "name": "ipython",
    "version": 3
   },
   "file_extension": ".py",
   "mimetype": "text/x-python",
   "name": "python",
   "nbconvert_exporter": "python",
   "pygments_lexer": "ipython3",
   "version": "3.8.8 (default, Apr 13 2021, 12:59:45) \n[Clang 10.0.0 ]"
  },
  "vscode": {
   "interpreter": {
    "hash": "40d3a090f54c6569ab1632332b64b2c03c39dcf918b08424e98f38b5ae0af88f"
   }
  }
 },
 "nbformat": 4,
 "nbformat_minor": 5
}
