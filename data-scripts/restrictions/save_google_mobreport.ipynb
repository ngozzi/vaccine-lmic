{
 "cells": [
  {
   "cell_type": "code",
   "execution_count": 1,
   "id": "77c1be7b-e5c8-447b-bf49-eb52650ce9bb",
   "metadata": {
    "tags": []
   },
   "outputs": [],
   "source": [
    "import pandas as pd\n",
    "import os\n",
    "\n",
    "data_dir = \"../../basins/\"\n",
    "\n",
    "country_match = {'Indonesia': 'ID', 'Bolivia': 'BO','Morocco': 'MA', 'Bangladesh': 'BD',\n",
    "                 'Sri Lanka': 'LK', 'Kenya': 'KE', 'Mozambique': 'MZ',\n",
    "                 \"Afghanistan\": \"AF\", \"Uganda\": \"UG\", \"Rwanda\": \"RW\", \"Pakistan\": \"PK\", \n",
    "                 \"El Salvador\": \"SV\", \"Philippines\": \"PH\", \"Egypt\": \"EG\", \"Zambia\": \"ZM\", \"Angola\": \"AO\",\n",
    "                 \"Ghana\": \"GH\", \"Côte d'Ivoire\": \"CI\", \"Honduras\": \"HN\", \"Kyrgyzstan\": \"KG\"}\n",
    "\n",
    "red_cols = [\"workplaces_percent_change_from_baseline\", \n",
    "            \"retail_and_recreation_percent_change_from_baseline\",\n",
    "            \"transit_stations_percent_change_from_baseline\"]\n",
    "\n",
    "\n",
    "def add_week_of_year(date): \n",
    "    if date.isocalendar()[1] < 10:    \n",
    "        year_week = str(date.isocalendar()[0]) + \"-0\" + str(date.isocalendar()[1])\n",
    "    else: \n",
    "        year_week = str(date.isocalendar()[0]) + \"-\" + str(date.isocalendar()[1])\n",
    "    return year_week\n",
    "\n",
    "\n",
    "def import_df(country):\n",
    "    # import and loc\n",
    "    try:\n",
    "        df20 = pd.read_csv(\"./Region_Mobility_Report_CSVs/2020_\" + country_match[country] + \"_Region_Mobility_Report.csv\")\n",
    "        df21 = pd.read_csv(\"./Region_Mobility_Report_CSVs/2021_\" + country_match[country] + \"_Region_Mobility_Report.csv\")\n",
    "    except:\n",
    "        print(\"Country not found:\", country)\n",
    "        return pd.DataFrame()\n",
    "\n",
    "    if country == \"Myanmar\":\n",
    "        country_r = \"Myanmar (Burma)\"\n",
    "    else:\n",
    "        country_r = country\n",
    "    df = pd.concat((df20, df21), ignore_index=True)\n",
    "    df = df.loc[(df.country_region == country_r) & (df.sub_region_1.isnull()) & \n",
    "                (df.sub_region_2.isnull()) & (df.metro_area.isnull())]\n",
    "    \n",
    "    # time steps\n",
    "    df.reset_index(inplace=True, drop=True)\n",
    "    df.date = pd.to_datetime(df.date)\n",
    "    df.sort_values(by=\"date\", inplace=True)\n",
    "    df[\"year_week\"] = df[\"date\"].apply(add_week_of_year)\n",
    "    \n",
    "    # fix work columns\n",
    "    df.loc[df.date.dt.weekday==5, \"workplaces_percent_change_from_baseline\"] = df[\"workplaces_percent_change_from_baseline\"].shift(1)\n",
    "    df.loc[df.date.dt.weekday==6, \"workplaces_percent_change_from_baseline\"] = df[\"workplaces_percent_change_from_baseline\"].shift(1)\n",
    "\n",
    "    return df\n",
    "\n",
    "\n",
    "def get_reductions(df, columns):\n",
    "    return (1 + df[columns].mean(axis=1) / 100)**2  \n",
    "    \n",
    "\n",
    "def save_reductions(df, country):\n",
    "    df[[\"year_week\", \"red\"]].groupby(by=\"year_week\")[\"red\"].mean().to_csv(os.path.join(data_dir, country, \"restrictions/reductions.csv\"))\n",
    "    \n",
    "    \n",
    "def main(country, columns):\n",
    "    df = import_df(country)\n",
    "    if not df.empty:\n",
    "        df[\"red\"] = get_reductions(df, columns)\n",
    "        save_reductions(df, country)"
   ]
  },
  {
   "cell_type": "code",
   "execution_count": 3,
   "id": "6f31d662-4af6-45f8-8fcf-af71bc872b41",
   "metadata": {},
   "outputs": [],
   "source": [
    "for country in country_match.keys():\n",
    "    main(country, red_cols)"
   ]
  },
  {
   "cell_type": "code",
   "execution_count": null,
   "id": "4b41da55",
   "metadata": {},
   "outputs": [],
   "source": []
  }
 ],
 "metadata": {
  "kernelspec": {
   "display_name": "base",
   "language": "python",
   "name": "python3"
  },
  "language_info": {
   "codemirror_mode": {
    "name": "ipython",
    "version": 3
   },
   "file_extension": ".py",
   "mimetype": "text/x-python",
   "name": "python",
   "nbconvert_exporter": "python",
   "pygments_lexer": "ipython3",
   "version": "3.8.8"
  },
  "vscode": {
   "interpreter": {
    "hash": "40d3a090f54c6569ab1632332b64b2c03c39dcf918b08424e98f38b5ae0af88f"
   }
  }
 },
 "nbformat": 4,
 "nbformat_minor": 5
}
