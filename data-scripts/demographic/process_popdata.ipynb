{
 "cells": [
  {
   "cell_type": "code",
   "execution_count": 1,
   "metadata": {},
   "outputs": [],
   "source": [
    "# libraries \n",
    "import pandas as pd \n",
    "import numpy as np\n",
    "import os\n",
    "\n",
    "# data directory\n",
    "data_dir = \"../../basins/\"\n",
    "\n",
    "# import data (https://population.un.org/wpp/Download/Standard/Population/)\n",
    "un = pd.read_csv(\"./un_estimates.csv\")\n",
    "\n",
    "# list of countries\n",
    "countries = ['Sri Lanka', 'El Salvador', 'Morocco', 'Bolivia', 'Honduras',\n",
    "             'Philippines', 'Indonesia', 'Pakistan', 'Rwanda', 'Bangladesh',\n",
    "             'Kyrgyzstan', 'Egypt', 'Mozambique', 'Afghanistan', 'Angola',\n",
    "             'Ghana', 'Zambia', \"Côte d'Ivoire\", 'Kenya', 'Uganda']\n",
    "             \n",
    "              \n",
    "def save_country(df, country):\n",
    "    \"\"\"\n",
    "    This function computes the age distribution over the 10 age groups for a given country\n",
    "    :param df: UN estimates DataFrame\n",
    "    :param country: country name\n",
    "    \"\"\"\n",
    "        \n",
    "    country_name = country\n",
    "    \n",
    "    # fix Bolivia name\n",
    "    if country == \"Bolivia\":\n",
    "        country_name = \"Bolivia (Plurinational State of)\"\n",
    "\n",
    "    # loc country\n",
    "    df_country = df.loc[(df[\"Region, subregion, country or area *\"]==country_name) & \\\n",
    "                        (df[\"Reference date (as of 1 July)\"]==2020)]\n",
    "\n",
    "    # pop by age group\n",
    "    age_groups, pop = [], []\n",
    "    \n",
    "    age_groups.append(['0-9'])\n",
    "    pop.append(np.sum([1000 * int(v.replace(\" \", \"\")) for v in df_country[['0-4', '5-9']].values[0]]))\n",
    "    \n",
    "    age_groups.append(['10-19'])\n",
    "    pop.append(np.sum([1000 * int(v.replace(\" \", \"\")) for v in df_country[['10-14', '15-19']].values[0]]))\n",
    "    \n",
    "    age_groups.append(['20-24'])\n",
    "    pop.append(np.sum([1000 * int(v.replace(\" \", \"\")) for v in df_country[['20-24']].values[0]]))\n",
    "    \n",
    "    age_groups.append(['25-29'])\n",
    "    pop.append(np.sum([1000 * int(v.replace(\" \", \"\")) for v in df_country[['25-29']].values[0]]))\n",
    "    \n",
    "    age_groups.append(['30-39'])\n",
    "    pop.append(np.sum([1000 * int(v.replace(\" \", \"\")) for v in df_country[['30-34', '35-39']].values[0]]))\n",
    "    \n",
    "    age_groups.append(['40-49'])\n",
    "    pop.append(np.sum([1000 * int(v.replace(\" \", \"\")) for v in df_country[['40-44', '45-49']].values[0]]))\n",
    "    \n",
    "    age_groups.append(['50-59'])\n",
    "    pop.append(np.sum([1000 * int(v.replace(\" \", \"\")) for v in df_country[['50-54', '55-59']].values[0]]))\n",
    "    \n",
    "    age_groups.append(['60-69'])\n",
    "    pop.append(np.sum([1000 * int(v.replace(\" \", \"\")) for v in df_country[['60-64', '65-69']].values[0]]))\n",
    "    \n",
    "    age_groups.append(['70-79'])\n",
    "    pop.append(np.sum([1000 * int(v.replace(\" \", \"\")) for v in df_country[['70-74', '75-79']].values[0]]))\n",
    "        \n",
    "    # last age group\n",
    "    age_groups.append('80+')\n",
    "    pop.append(np.sum([1000 * int(v.replace(\" \", \"\")) for v in df_country[['80-84', '85-89', '90-94', '95-99', '100+']].values[0]]))\n",
    "    \n",
    "    # save\n",
    "    print(\"{0}: {1} (Millions)\".format(country, sum(pop) / 10**6))\n",
    "    df_age = pd.DataFrame(data={\"group\": age_groups, \"value\": pop})\n",
    "    df_age.to_csv(os.path.join(data_dir, country, \"demographic/Nk_10.csv\"), index=False)"
   ]
  },
  {
   "cell_type": "code",
   "execution_count": 2,
   "metadata": {},
   "outputs": [
    {
     "name": "stdout",
     "output_type": "stream",
     "text": [
      "Sri Lanka: 21.414 (Millions)\n",
      "El Salvador: 6.488 (Millions)\n",
      "Morocco: 36.911 (Millions)\n",
      "Bolivia: 11.673 (Millions)\n",
      "Honduras: 9.906 (Millions)\n",
      "Philippines: 109.581 (Millions)\n",
      "Indonesia: 273.523 (Millions)\n",
      "Pakistan: 220.893 (Millions)\n",
      "Rwanda: 12.952 (Millions)\n",
      "Bangladesh: 164.688 (Millions)\n",
      "Kyrgyzstan: 6.525 (Millions)\n",
      "Egypt: 102.334 (Millions)\n",
      "Mozambique: 31.258 (Millions)\n",
      "Afghanistan: 38.927 (Millions)\n",
      "Angola: 32.866 (Millions)\n",
      "Ghana: 31.07 (Millions)\n",
      "Zambia: 18.385 (Millions)\n",
      "Côte d'Ivoire: 26.378 (Millions)\n",
      "Kenya: 53.772 (Millions)\n",
      "Uganda: 45.741 (Millions)\n"
     ]
    }
   ],
   "source": [
    "for country in countries:\n",
    "    save_country(un, country)"
   ]
  },
  {
   "cell_type": "code",
   "execution_count": null,
   "metadata": {},
   "outputs": [],
   "source": []
  }
 ],
 "metadata": {
  "kernelspec": {
   "display_name": "base",
   "language": "python",
   "name": "python3"
  },
  "language_info": {
   "codemirror_mode": {
    "name": "ipython",
    "version": 3
   },
   "file_extension": ".py",
   "mimetype": "text/x-python",
   "name": "python",
   "nbconvert_exporter": "python",
   "pygments_lexer": "ipython3",
   "version": "3.8.8"
  },
  "vscode": {
   "interpreter": {
    "hash": "40d3a090f54c6569ab1632332b64b2c03c39dcf918b08424e98f38b5ae0af88f"
   }
  }
 },
 "nbformat": 4,
 "nbformat_minor": 4
}
