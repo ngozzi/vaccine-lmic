{
 "cells": [
  {
   "cell_type": "code",
   "execution_count": 54,
   "metadata": {},
   "outputs": [],
   "source": [
    "import numpy as np \n",
    "from datetime import datetime, timedelta\n",
    "\n",
    "countries = np.array(['Indonesia', 'Bolivia', 'Morocco', 'Bangladesh', 'Sri Lanka', 'Kenya', 'Mozambique',\n",
    "                      \"Afghanistan\", \"Côte d'Ivoire\", \"Pakistan\", \"El Salvador\", \n",
    "                      \"Philippines\", \"Uganda\", \"Kyrgyzstan\", \"Egypt\", \"Rwanda\", \"Zambia\", \"Angola\", \"Ghana\", \"Honduras\"])\n",
    "\n",
    "def import_posterior(country):\n",
    "    post = np.load(\"./posteriors_october/posteriors_{0}.npz\".format(country), allow_pickle=True)[\"arr_0\"]\n",
    "    posterior = {\"R0\": post[:, 0], \"Delta\": post[:, 1], \"seasonality_min\": post[:, 2], \"psi\": post[:, 3], \n",
    "                 \"I_mult\": post[:, 4], \"R_mult\": post[:, 5], \"ifr_mult\": post[:, 6], \"scaler\": 100*post[:, 7], \"date_intro_VOC\": post[:, 8]}\n",
    "    return posterior\n",
    "\n",
    "def get_stats(country, k):\n",
    "    posterior = import_posterior(country)\n",
    "\n",
    "    if k != \"date_intro_VOC\":\n",
    "        return np.median(posterior[k]), np.quantile(posterior[k], q=0.25), np.quantile(posterior[k], q= 0.75)\n",
    "\n",
    "    else: \n",
    "        ref_date = datetime(2020, 1, 1)\n",
    "        delta_days = [(d - ref_date).days for d in posterior[k]]\n",
    "        med, q1, q2 = np.median(delta_days), np.quantile(delta_days, q=0.25), np.quantile(delta_days, q= 0.75)\n",
    "        \n",
    "        return ref_date + timedelta(days=med), ref_date + timedelta(days=q1), ref_date + timedelta(days=q2)\n"
   ]
  },
  {
   "cell_type": "code",
   "execution_count": 87,
   "metadata": {},
   "outputs": [
    {
     "name": "stdout",
     "output_type": "stream",
     "text": [
      "\\textit{$R^{start}_{t}$} & 1.25 {[}1.24, 1.27{]} & 1.08 {[}1.06, 1.09{]} & 1.38 {[}1.37, 1.41{]} & 1.41 {[}1.39, 1.44{]}\\\\ \n",
      "\\textit{$\\Delta$} & 12 {[}11, 14{]} & 27 {[}19, 31{]} & 30 {[}27, 32{]} & 30 {[}28, 31{]}\\\\ \n",
      "\\textit{$\\alpha_{min}$} & 0.73 {[}0.62, 0.86{]} & 0.77 {[}0.64, 0.88{]} & 0.74 {[}0.62, 0.89{]} & 0.76 {[}0.64, 0.86{]}\\\\ \n",
      "\\textit{$\\psi$} & 1.13 {[}1.08, 1.2{]} & 1.09 {[}1.05, 1.15{]} & 1.41 {[}1.36, 1.47{]} & 1.11 {[}1.06, 1.18{]}\\\\ \n",
      "\\textit{$Inf^{mult}_{start}$} & 16.27 {[}10.17, 21.0{]} & 16.07 {[}9.63, 20.61{]} & 20.5 {[}17.8, 22.96{]} & 1.62 {[}1.27, 2.14{]}\\\\ \n",
      "\\textit{$Rec^{mult}_{start}$} & 13.13 {[}7.4, 19.23{]} & 13.19 {[}7.32, 19.05{]} & 13.02 {[}7.93, 19.22{]} & 13.84 {[}7.91, 19.86{]}\\\\ \n",
      "\\textit{IFR Multiplier} & 1.05 {[}0.71, 1.46{]} & 1.0 {[}0.73, 1.39{]} & 0.99 {[}0.72, 1.38{]} & 1.04 {[}0.77, 1.43{]}\\\\ \n",
      "\\textit{$\\%$ deaths reported} & 21.87 {[}15.94, 31.72{]} & 2.11 {[}1.57, 2.96{]} & 6.58 {[}4.78, 9.31{]} & 42.36 {[}26.11, 63.94{]}\\\\ \n",
      "\\textit{Date intro. VOC} & 04-08 {[}03-22, 04-21{]} & 05-31 {[}05-13, 06-14{]} & 05-01 {[}04-23, 05-07{]} & 03-17 {[}03-01, 03-31{]}\\\\ \n"
     ]
    }
   ],
   "source": [
    "countries =[]\n",
    "            \n",
    "params = ['R0', 'Delta', 'seasonality_min', 'psi', 'I_mult', 'R_mult', 'ifr_mult', 'scaler', 'date_intro_VOC']\n",
    "labels = [\"$R^{start}_{t}$\", \"$\\Delta$\",  \"$\\\\alpha_{min}$\", \"$\\psi$\", \"$Inf^{mult}_{start}$\", \"$Rec^{mult}_{start}$\",\n",
    "          \"IFR Multiplier\", \"$\\%$ deaths reported\", \"Date intro. VOC\"]\n",
    "\n",
    "countries_subs = ['Zambia', \"Côte d'Ivoire\", 'Kenya', 'Uganda']\n",
    "for p, l in zip(params, labels):\n",
    "    line = \"\\\\textit{{{0}}}\".format(l)\n",
    "\n",
    "    for country in countries_subs:\n",
    "        posterior = import_posterior(country)\n",
    "        med, q1, q2 = get_stats(country, p)\n",
    "\n",
    "        # format \n",
    "        if p == \"Delta\":\n",
    "            med, q1, q2 = int(med), int(q1), int(q2)\n",
    "\n",
    "        elif p != \"date_intro_VOC\":\n",
    "            med, q1, q2 = np.round(med, 2), np.round(q1, 2), np.round(q2, 2)\n",
    "\n",
    "        else:\n",
    "            med, q1, q2 = med.strftime(\"%m-%d\"), q1.strftime(\"%m-%d\"), q2.strftime(\"%m-%d\")\n",
    "\n",
    "        line += \" & {0} {{[}}{1}, {2}{{]}}\".format(med, q1, q2)\n",
    "\n",
    "    print(line + \"\\\\\\ \")"
   ]
  },
  {
   "cell_type": "markdown",
   "metadata": {},
   "source": []
  },
  {
   "cell_type": "code",
   "execution_count": null,
   "metadata": {},
   "outputs": [],
   "source": []
  }
 ],
 "metadata": {
  "interpreter": {
   "hash": "40d3a090f54c6569ab1632332b64b2c03c39dcf918b08424e98f38b5ae0af88f"
  },
  "kernelspec": {
   "display_name": "Python 3.8.8 ('base')",
   "language": "python",
   "name": "python3"
  },
  "language_info": {
   "codemirror_mode": {
    "name": "ipython",
    "version": 3
   },
   "file_extension": ".py",
   "mimetype": "text/x-python",
   "name": "python",
   "nbconvert_exporter": "python",
   "pygments_lexer": "ipython3",
   "version": "3.8.8 (default, Apr 13 2021, 12:59:45) \n[Clang 10.0.0 ]"
  },
  "orig_nbformat": 4
 },
 "nbformat": 4,
 "nbformat_minor": 2
}
