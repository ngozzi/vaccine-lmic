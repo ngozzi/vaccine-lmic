{
 "cells": [
  {
   "cell_type": "code",
   "execution_count": 1,
   "id": "c8573d5f-9ecc-4797-8e3f-f4007c7f0344",
   "metadata": {},
   "outputs": [],
   "source": [
    "from Basin import Basin \n",
    "from functions import compute_contacts, get_epi_params, compute_contacts_factor, get_epi_params, get_IFR_fixed\n",
    "from deaths import compute_deaths\n",
    "from functions import apply_seasonality\n",
    "from stochastic_SEIRD import simulate\n",
    "import matplotlib.pyplot as plt\n",
    "import numpy as np\n",
    "import pandas as pd\n",
    "from datetime import datetime, timedelta\n",
    "\n",
    "start_date = datetime(2020, 11, 1)\n",
    "end_date = datetime(2021, 10, 1)\n",
    "\n",
    "country = \"Afghanistan\"\n",
    "basin = Basin(country, \"../basins/\")\n",
    "Cs, dates = compute_contacts(basin, start_date, end_date)\n"
   ]
  },
  {
   "cell_type": "code",
   "execution_count": 2,
   "id": "4d52ec94-773e-4930-ac5f-38246c7b3f30",
   "metadata": {},
   "outputs": [],
   "source": [
    "epi_params = get_epi_params()\n",
    "IFR = get_IFR_fixed('verity')\n",
    "\n",
    "epi_params[\"Delta\"] = 20\n",
    "epi_params[\"IFR\"] = IFR * 2\n",
    "epi_params[\"IFR_VOC\"] = IFR * 2"
   ]
  },
  {
   "cell_type": "code",
   "execution_count": 3,
   "id": "12932c42-4484-417a-be8d-11d3eaa941e5",
   "metadata": {},
   "outputs": [
    {
     "name": "stdout",
     "output_type": "stream",
     "text": [
      "1.0426721572875977\n"
     ]
    },
    {
     "name": "stderr",
     "output_type": "stream",
     "text": [
      "/Users/nicolo/Desktop/vaccine-lmic/models/deaths.py:61: RuntimeWarning: invalid value encountered in true_divide\n",
      "  ifr[age] = (deaths[age]) / (R[age] + R_V1[age] + R_V2[age] + R_VOC[age] + R_V1_VOC[age] + R_V2_VOC[age])\n",
      "/Users/nicolo/Desktop/vaccine-lmic/models/deaths.py:69: RuntimeWarning: invalid value encountered in true_divide\n",
      "  ifr_tot = tot_deaths / tot_rec\n"
     ]
    }
   ],
   "source": [
    "import time \n",
    "\n",
    "start = time.time()\n",
    "results = simulate(basin=basin, \n",
    "                   Cs=Cs, \n",
    "                   R0=1.28,\n",
    "                   Delta=epi_params[\"Delta\"], \n",
    "                   dates=dates,\n",
    "                   seasonality_min=0.7,\n",
    "                   vaccine='age-order', \n",
    "                   I_mult=3, \n",
    "                   R_mult=5, \n",
    "                   psi=1.9, \n",
    "                   vaccinations=basin.vaccinations,\n",
    "                   date_VOC_intro=basin.start_date_VOC+timedelta(days=0))\n",
    "\n",
    "results_deaths = compute_deaths(results[\"recovered\"],\n",
    "                                    results[\"recovered_VOC\"],\n",
    "                                    results[\"recovered_V1i\"],\n",
    "                                    results[\"recovered_V2i\"],\n",
    "                                    results[\"recovered_V1i_VOC\"],\n",
    "                                    results[\"recovered_V2i_VOC\"],\n",
    "                                    epi_params)\n",
    "\n",
    "results.update(results_deaths)\n",
    "\n",
    "print(time.time() - start)"
   ]
  },
  {
   "cell_type": "code",
   "execution_count": 4,
   "id": "f8b177e5-7da6-4224-861a-bedf3c753387",
   "metadata": {},
   "outputs": [
    {
     "name": "stderr",
     "output_type": "stream",
     "text": [
      "<ipython-input-4-0f51a66e926b>:3: SettingWithCopyWarning: \n",
      "A value is trying to be set on a copy of a slice from a DataFrame.\n",
      "Try using .loc[row_indexer,col_indexer] = value instead\n",
      "\n",
      "See the caveats in the documentation: https://pandas.pydata.org/pandas-docs/stable/user_guide/indexing.html#returning-a-view-versus-a-copy\n",
      "  df_deaths[\"daily_sim\"] = results[\"deaths_TOT\"].sum(axis=0)\n"
     ]
    },
    {
     "data": {
      "image/png": "[encoded data removed]",
      "text/plain": [
       "<Figure size 432x288 with 1 Axes>"
      ]
     },
     "metadata": {
      "needs_background": "light"
     },
     "output_type": "display_data"
    }
   ],
   "source": [
    "df_deaths = basin.epi_data_deaths\n",
    "df_deaths = df_deaths.loc[(df_deaths.date >= dates[0]) & (df_deaths.date <= dates[-1])]\n",
    "df_deaths[\"daily_sim\"] = results[\"deaths_TOT\"].sum(axis=0)\n",
    "\n",
    "df_deaths.index = df_deaths.date\n",
    "df_deaths_w = df_deaths.resample(\"W\").sum()\n",
    "\n",
    "plt.plot(df_deaths_w.index, df_deaths_w.daily_sim, label='Simulated')\n",
    "plt.scatter(df_deaths_w.index, df_deaths_w.daily, s=10, alpha=0.3, linewidth=0.3, edgecolor='k', color='orange', label='Actual')\n",
    "plt.xticks(rotation=30)\n",
    "\n",
    "plt.title('Random Parameters TEST')\n",
    "plt.legend(loc='upper left');"
   ]
  },
  {
   "cell_type": "code",
   "execution_count": null,
   "id": "97fdf4c8",
   "metadata": {},
   "outputs": [],
   "source": []
  }
 ],
 "metadata": {
  "kernelspec": {
   "display_name": "base",
   "language": "python",
   "name": "python3"
  },
  "language_info": {
   "codemirror_mode": {
    "name": "ipython",
    "version": 3
   },
   "file_extension": ".py",
   "mimetype": "text/x-python",
   "name": "python",
   "nbconvert_exporter": "python",
   "pygments_lexer": "ipython3",
   "version": "3.8.8"
  },
  "vscode": {
   "interpreter": {
    "hash": "40d3a090f54c6569ab1632332b64b2c03c39dcf918b08424e98f38b5ae0af88f"
   }
  }
 },
 "nbformat": 4,
 "nbformat_minor": 5
}
