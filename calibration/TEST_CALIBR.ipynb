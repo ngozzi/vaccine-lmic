{
 "cells": [
  {
   "cell_type": "code",
   "execution_count": 3,
   "id": "ab6ec6b1-4214-4942-a5b2-1ad26a862e87",
   "metadata": {},
   "outputs": [],
   "source": [
    "from calibration import calibration\n",
    "# libraries\n",
    "import pandas as pd\n",
    "import numpy as np\n",
    "import os\n",
    "import matplotlib.pyplot as plt\n",
    "import warnings\n",
    "warnings.filterwarnings(\"ignore\")\n",
    "from datetime import timedelta\n",
    "\n",
    "import sys \n",
    "sys.path.append(\"../models/\")\n",
    "from Basin import Basin\n",
    "from stochastic_SEIRD import simulate\n",
    "from functions import compute_contacts, get_IFR_fixed, get_epi_params, wmape\n",
    "from deaths import compute_deaths\n",
    "\n",
    "from datetime import datetime"
   ]
  },
  {
   "cell_type": "code",
   "execution_count": 2,
   "id": "16ebcc5e-a92b-4645-a87c-87f167ebfb6f",
   "metadata": {
    "tags": []
   },
   "outputs": [
    {
     "data": {
      "text/plain": [
       "0"
      ]
     },
     "execution_count": 2,
     "metadata": {},
     "output_type": "execute_result"
    }
   ],
   "source": [
    "country = \"Kyrgyzstan\"\n",
    "calibration(basin_name=country,\n",
    "            nsim=101,\n",
    "            step_save=100,\n",
    "            R0min=0.6,\n",
    "            R0max=2.0,\n",
    "            Imultmin=1.,\n",
    "            Imultmax=25.0,\n",
    "            Rmultmin=1.0,\n",
    "            Rmultmax=25.0,\n",
    "            VOCdeltadays=30,\n",
    "            starting_month=12,\n",
    "            vaccine='age-order', \n",
    "            savefolder='posterior_samples_test')"
   ]
  },
  {
   "cell_type": "code",
   "execution_count": 4,
   "id": "ccdd49aa-e4aa-4a96-af92-118cc11abc2b",
   "metadata": {},
   "outputs": [
    {
     "name": "stdout",
     "output_type": "stream",
     "text": [
      "(10100, 10)\n",
      "best wMAPE: 0.5484707515092151\n"
     ]
    }
   ],
   "source": [
    "file = os.listdir('./posterior_samples_test/posterior_samples_Kyrgyzstan')[0]\n",
    "post = np.load(f\"./posterior_samples_test/posterior_samples_Kyrgyzstan/{file}\", allow_pickle=True)[\"arr_0\"]\n",
    "print(post.shape)\n",
    "\n",
    "# get best run\n",
    "params = post[np.argmin([p[-1] for p in post])]\n",
    "print(\"best wMAPE: {0}\".format(params[-1]))"
   ]
  },
  {
   "cell_type": "code",
   "execution_count": 6,
   "id": "348055a3-82a2-459f-b11e-e1606580115d",
   "metadata": {},
   "outputs": [],
   "source": [
    "# ([R0, Delta, seasonality_min, psi, I_mult, R_mult, ifr_mult, scaler / 100.0, date_intro_VOC, err])\n",
    "# simulation dates\n",
    "start_date = datetime(2020, 12, 1)\n",
    "end_date = datetime(2021, 12, 1)\n",
    "\n",
    "# create Basin object\n",
    "basin = Basin(country, \"../basins/\")\n",
    "params = post[np.argmin([p[-1] for p in post])]\n",
    "\n",
    "# get real deaths (first month excluded for the delay Delta)\n",
    "real_deaths = basin.epi_data_deaths.loc[(basin.epi_data_deaths[\"date\"] >= start_date) &\n",
    "                                        (basin.epi_data_deaths[\"date\"] < end_date)][\"daily\"][33:].reset_index(drop=True)\n",
    "\n",
    "Cs, dates = compute_contacts(basin, start_date, end_date)\n",
    "\n",
    "\n",
    "# simulate(basin, Cs, R0, Delta, dates, seasonality_min, vaccine, I_mult, R_mult, psi, basin.vaccinations, date_intro_VOC)\n",
    "results = simulate(basin, Cs, params[0], params[1], \n",
    "                   dates, params[2], 'age-order', params[4],\n",
    "                   params[5], params[3],\n",
    "                   basin.vaccinations, \n",
    "                   params[8])\n",
    "\n",
    "\n",
    "\n",
    "IFR = get_IFR_fixed('verity')\n",
    "epi_params = get_epi_params()\n",
    "epi_params[\"IFR\"] = params[6]* IFR\n",
    "epi_params[\"IFR_VOC\"] = params[6] * IFR\n",
    "epi_params[\"Delta\"] = int(params[1])\n",
    "\n",
    "results_deaths = compute_deaths(results[\"recovered\"], results[\"recovered_VOC\"], results[\"recovered_V1i\"],\n",
    "                                results[\"recovered_V2i\"], results[\"recovered_V1i_VOC\"], results[\"recovered_V2i_VOC\"], epi_params)\n",
    "\n",
    "df_deaths = pd.DataFrame(data={\"real_deaths\": real_deaths.values, \"sim_deaths\": params[7] * results_deaths[\"deaths_TOT\"].sum(axis=0)[33:]}, index=dates[33:])\n",
    "df_deaths = df_deaths.resample(\"W\").sum()"
   ]
  },
  {
   "cell_type": "code",
   "execution_count": 7,
   "id": "326d4fe4-cdcb-41af-990b-0cdcda8362b3",
   "metadata": {},
   "outputs": [
    {
     "name": "stdout",
     "output_type": "stream",
     "text": [
      "wMAPE: 0.5729641105249009\n"
     ]
    },
    {
     "data": {
      "text/plain": [
       "<AxesSubplot:>"
      ]
     },
     "execution_count": 7,
     "metadata": {},
     "output_type": "execute_result"
    },
    {
     "data": {
      "image/png": "[encoded data removed]",
      "text/plain": [
       "<Figure size 432x288 with 1 Axes>"
      ]
     },
     "metadata": {
      "needs_background": "light"
     },
     "output_type": "display_data"
    }
   ],
   "source": [
    "# R0, Delta, seasonality_min, psi, I_mult, R_mult, scaler, date_intro_VOC, err\n",
    "print(\"wMAPE: {0}\".format(wmape(df_deaths.real_deaths.values, df_deaths.sim_deaths.values)))\n",
    "df_deaths.plot()"
   ]
  },
  {
   "cell_type": "code",
   "execution_count": null,
   "id": "e7e0574b",
   "metadata": {},
   "outputs": [],
   "source": []
  }
 ],
 "metadata": {
  "kernelspec": {
   "display_name": "base",
   "language": "python",
   "name": "python3"
  },
  "language_info": {
   "codemirror_mode": {
    "name": "ipython",
    "version": 3
   },
   "file_extension": ".py",
   "mimetype": "text/x-python",
   "name": "python",
   "nbconvert_exporter": "python",
   "pygments_lexer": "ipython3",
   "version": "3.8.8"
  },
  "vscode": {
   "interpreter": {
    "hash": "40d3a090f54c6569ab1632332b64b2c03c39dcf918b08424e98f38b5ae0af88f"
   }
  }
 },
 "nbformat": 4,
 "nbformat_minor": 5
}
